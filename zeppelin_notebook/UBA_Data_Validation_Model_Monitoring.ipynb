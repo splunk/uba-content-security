﻿{
  "metadata": {
    "name": "UBA_Data_Validation_Model_Monitoring",
    "kernelspec": {
      "language": "scala",
      "name": "spark2-scala"
    },
    "language_info": {
      "codemirror_mode": "text/x-scala",
      "file_extension": ".scala",
      "mimetype": "text/x-scala",
      "name": "scala",
      "pygments_lexer": "scala"
    }
  },
  "nbformat": 4,
  "nbformat_minor": 2,
  "cells": [
    {
      "cell_type": "markdown",
      "metadata": {},
      "source": " # UBA Data Validation and Model Monitoring\n\nThe notebook showcase some useful examples for data validation and model monitoring to help resolve system scaliblity issues at the early stage. \n\nMore examples can be provided based on feedback.\nNote: to secure the customer datasets, the notebook was run on single-node UBA testing VM using synthetic datasets. The installation has been also tested in a multi-node deployment environment."
    },
    {
      "cell_type": "markdown",
      "metadata": {},
      "source": " ## Validate the scale from data sources\nThrough the sample notebook, you may track the event processing count, the Maximum, Minimum, and Average EPS values. Currently UBA secures the scale of EPS value under 160K."
    },
    {
      "cell_type": "code",
      "execution_count": 2,
      "metadata": {
        "autoscroll": "auto"
      },
      "outputs": [],
      "source": "\n%sh /opt/caspida/bin/status/eps_ds\n"
    },
    {
      "cell_type": "code",
      "execution_count": 3,
      "metadata": {
        "autoscroll": "auto"
      },
      "outputs": [],
      "source": "%sh /opt/caspida/bin/status/eps_etl\n"
    },
    {
      "cell_type": "code",
      "execution_count": 4,
      "metadata": {
        "autoscroll": "auto"
      },
      "outputs": [],
      "source": "%sh /opt/caspida/bin/status/eps_ir\n"
    },
    {
      "cell_type": "code",
      "execution_count": 5,
      "metadata": {
        "autoscroll": "auto"
      },
      "outputs": [],
      "source": "%sh psql -d caspidadb -c \"SELECT DISTINCT ON (d.name) d.name, d.type, d.status, d.error, d.format, date_trunc(\u0027Seconds\u0027,cstats.lastprocessed) as lastprocessed, cstats.epsjson::json-\u003e\u003e\u0027EPS\u0027 as recent_eps, cstats.epsjson::json-\u003e\u003e\u0027Avg EPS\u0027 as average_eps, cstats.epsjson::json-\u003e\u003e\u0027Max EPS\u0027 as max_eps, dstats.countevents, dstats.countfailedevents, dstats.countskippedevents, (100-((dstats.countskippedevents + dstats.countfailedevents)*100)/dstats.countevents) as success_perc, \\\n                case \\\n                  when d.status !\u003d \u0027Processing\u0027 then \u0027\u0027 \\\n                  when (100-((dstats.countskippedevents + dstats.countfailedevents)*100)/dstats.countevents)\u003d0 then \u0027   \u003c\u003d\u003d utter failure; events not processed; review datasource SPL\u0027 \\\n                  when (100-((dstats.countskippedevents + dstats.countfailedevents)*100)/dstats.countevents)\u003d100 then \u0027(complete success)\u0027 \\\n                  when (100-((dstats.countskippedevents + dstats.countfailedevents)*100)/dstats.countevents)\u003c\u003d40 then \u0027   \u003c\u003d\u003d significant failed/skipped events; review datasource SPL\u0027 \\\n                  when (100-((dstats.countskippedevents + dstats.countfailedevents)*100)/dstats.countevents)\u003c\u003d70 then \u0027   \u003c\u003d check failed/skipped events; review datasource SPL\u0027 \\\n                  else \u0027\u0027 end as observation \\\n                FROM connectorstats as cstats \\\n                INNER JOIN datasourcestats as dstats on cstats.id \u003d dstats.id \\\n                INNER JOIN datasources as d on cstats.id \u003d d.id WHERE cstats.lastprocessed IS NOT NULL AND dstats.countevents!\u003d0 ORDER BY name, lastmodified DESC; \\\n\t\t\""
    },
    {
      "cell_type": "code",
      "execution_count": 6,
      "metadata": {
        "autoscroll": "auto"
      },
      "outputs": [],
      "source": "%sh psql -d caspidadb -c \"select id,name,type,format,status,connectortype from datasources where name\u003d\u00270_resolution-demoandbackground.infoblox\u0027;\"\n"
    },
    {
      "cell_type": "code",
      "execution_count": 7,
      "metadata": {
        "autoscroll": "auto"
      },
      "outputs": [],
      "source": "%sh psql -d caspidadb -c \"select id,instanceid,lastmodified,state,numprocessed,numfailed,eps,epsjson from connectorstats where id\u003d\u00276015881326631454175\u0027\"\n"
    },
    {
      "cell_type": "code",
      "execution_count": 8,
      "metadata": {
        "autoscroll": "auto"
      },
      "outputs": [],
      "source": "%sh impala-shell -d caspida -q \u0027describe datasourcevalidations;\u0027"
    },
    {
      "cell_type": "markdown",
      "metadata": {},
      "source": " ## Validate the scale from user and entity profiles\n\nThe number of users, entities (e.g. devices, applications) and its associated profiles may determine the scale for some models. Validate user and entity profiles are preliminary for reliable detections. "
    },
    {
      "cell_type": "code",
      "execution_count": 10,
      "metadata": {
        "autoscroll": "auto"
      },
      "outputs": [],
      "source": "%sh psql -d caspidadb -c \u0027select count(*) from hrdatausers\u0027;\n"
    },
    {
      "cell_type": "code",
      "execution_count": 11,
      "metadata": {
        "autoscroll": "auto"
      },
      "outputs": [],
      "source": "%sh psql -d caspidadb -c \u0027select count(*) from users\u0027;\n"
    },
    {
      "cell_type": "code",
      "execution_count": 12,
      "metadata": {
        "autoscroll": "auto"
      },
      "outputs": [],
      "source": "%sh  psql -d caspidadb -c \"select count(*), ou from hrdatausers group by ou;\"\n"
    },
    {
      "cell_type": "code",
      "execution_count": 13,
      "metadata": {
        "autoscroll": "auto"
      },
      "outputs": [],
      "source": "\n%sh  psql -d caspidadb -c \"select count(*), hraccounttype from hrdataaccounts group by hraccounttype;\"\n"
    },
    {
      "cell_type": "code",
      "execution_count": 14,
      "metadata": {
        "autoscroll": "auto"
      },
      "outputs": [],
      "source": "%sh psql -d caspidadb -c \"select count(*), type from systems group by type;\""
    },
    {
      "cell_type": "code",
      "execution_count": 15,
      "metadata": {
        "autoscroll": "auto"
      },
      "outputs": [],
      "source": "%sh  psql -d caspidadb -c \"select count(*) from usystems where state \u003d \u0027Unresolved\u0027;\" \n"
    },
    {
      "cell_type": "markdown",
      "metadata": {},
      "source": " ## Identify scalability issues from batch models\nYou may also check in real-time for any recurrent model failures, identify models with the longest durations. Monitor the long-running models if there are noticeable changes in the execution times, and engage with UBA Customer support if they cause system performance to be downgraded. "
    },
    {
      "cell_type": "code",
      "execution_count": 17,
      "metadata": {
        "autoscroll": "auto"
      },
      "outputs": [],
      "source": "%sh impala-shell -d caspida -q \u0027select eventtime,modelname,durationinmilliseconds,successfulexecutions,failedexecutions from offlinemodelstats where failedexecutions\u003d0 order by durationinmilliseconds desc limit 10;\u0027\n"
    },
    {
      "cell_type": "code",
      "execution_count": 18,
      "metadata": {
        "autoscroll": "auto"
      },
      "outputs": [],
      "source": "%sh impala-shell -d caspida --quiet -q \"select modelname, eventtime from (select modelname,eventtime,row_number() over (partition by modelname order by eventtime desc) as index from offlinemodelstats where failurereason \u003d \u0027n/a\u0027) t where index \u003d 1 order by 2 desc;\"\n"
    },
    {
      "cell_type": "markdown",
      "metadata": {},
      "source": " # Check threats and anomalies from history\n\nSome issues caused performance downgrades but not related to scalability. For example, customers neglected to clear historical anomalies from Postgres databases, resulting in insufficient space and model failures. "
    },
    {
      "cell_type": "code",
      "execution_count": 20,
      "metadata": {
        "autoscroll": "auto"
      },
      "outputs": [],
      "source": "%sh  psql -d caspidadb -c \"select eventtime,endtime, anomalytype,anomalycategory, scoredby, entitytypes from anomalies limit 25;\"\n"
    },
    {
      "cell_type": "code",
      "execution_count": 21,
      "metadata": {
        "autoscroll": "auto"
      },
      "outputs": [],
      "source": "%sh  psql -d caspidadb -c \"select count(*), anomalytype from anomalies group by anomalytype;\"\n"
    },
    {
      "cell_type": "code",
      "execution_count": 22,
      "metadata": {
        "autoscroll": "auto"
      },
      "outputs": [],
      "source": "%sh  psql -d caspidadb -c \"select count(*),isactive from threats group by isactive;\"\n"
    },
    {
      "cell_type": "markdown",
      "metadata": {},
      "source": " # Additional useful queries\n\nShare more useful queries below"
    },
    {
      "cell_type": "code",
      "execution_count": 24,
      "metadata": {
        "autoscroll": "auto"
      },
      "outputs": [],
      "source": "%sh psql -d caspidadb -c \"select * from dbinfo\"\n"
    }
  ]
}